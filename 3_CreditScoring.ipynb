{
 "cells": [
  {
   "cell_type": "markdown",
   "id": "c089116f",
   "metadata": {},
   "source": [
    "# Credit Scoring"
   ]
  },
  {
   "cell_type": "markdown",
   "id": "e2e50e57",
   "metadata": {},
   "source": [
    "First, I prepare the dataset so that it can be processed, for example encode categorical data and streamline the dataset so that all necessary parameters are present. Then I compute credit scores by scaling the data,  applying weights, calculating the sum of each weighted parameter and scaling it to the range between 300 and 850."
   ]
  },
  {
   "cell_type": "markdown",
   "id": "5d06d152",
   "metadata": {},
   "source": [
    "0. Import Libraries and do general settings"
   ]
  },
  {
   "cell_type": "code",
   "execution_count": 47,
   "id": "956d26d7",
   "metadata": {},
   "outputs": [],
   "source": [
    "import pandas as pd\n",
    "import numpy as np\n",
    "import seaborn as sns\n",
    "import matplotlib.pyplot as plt\n",
    "from sklearn.preprocessing import LabelEncoder, MinMaxScaler"
   ]
  },
  {
   "cell_type": "code",
   "execution_count": 2,
   "id": "47e6f94d",
   "metadata": {},
   "outputs": [],
   "source": [
    "creditscoring = pd.read_excel(r\"C:\\Users\\felis\\Github_DataScience\\BMW_Portfolio\\dataset.xlsx\")"
   ]
  },
  {
   "cell_type": "markdown",
   "id": "8f361b99",
   "metadata": {},
   "source": [
    "1. Data Preparation"
   ]
  },
  {
   "cell_type": "markdown",
   "id": "0639691e",
   "metadata": {},
   "source": [
    "1.1. Encoding\n",
    "\n",
    "First, I need to transform all categorical data into numerical data. I use the Label Encoder."
   ]
  },
  {
   "cell_type": "code",
   "execution_count": 4,
   "id": "4fecb8d4",
   "metadata": {},
   "outputs": [],
   "source": [
    "# Label Encoder\n",
    "encoder = LabelEncoder() "
   ]
  },
  {
   "cell_type": "code",
   "execution_count": 5,
   "id": "9038048e",
   "metadata": {},
   "outputs": [],
   "source": [
    "creditscoring[\"paymenthistory\"] = encoder.fit_transform(creditscoring[\"paymenthistory\"])"
   ]
  },
  {
   "cell_type": "code",
   "execution_count": 6,
   "id": "58ff8040",
   "metadata": {},
   "outputs": [],
   "source": [
    "creditscoring[\"newcredit\"] = encoder.fit_transform(creditscoring[\"newcredit\"])"
   ]
  },
  {
   "cell_type": "markdown",
   "id": "760f2977",
   "metadata": {},
   "source": [
    "1.2. Create variable amountsowed"
   ]
  },
  {
   "cell_type": "code",
   "execution_count": 7,
   "id": "59f7e6bc",
   "metadata": {},
   "outputs": [],
   "source": [
    "creditscoring[\"amountsowed\"] = creditscoring[\"creditused\"] / creditscoring[\"creditavailable\"]"
   ]
  },
  {
   "cell_type": "code",
   "execution_count": 8,
   "id": "191cff29",
   "metadata": {},
   "outputs": [],
   "source": [
    "creditscoring.drop(\"creditused\", axis=1, inplace=True)"
   ]
  },
  {
   "cell_type": "code",
   "execution_count": 9,
   "id": "52610a42",
   "metadata": {},
   "outputs": [],
   "source": [
    "creditscoring.drop(\"creditavailable\", axis=1, inplace=True)"
   ]
  },
  {
   "cell_type": "code",
   "execution_count": 10,
   "id": "9fdd2b9c",
   "metadata": {},
   "outputs": [],
   "source": [
    "creditscoring.drop([\"ID\", \"Age\", \"City\", \"Gender\"], axis=1, inplace=True)"
   ]
  },
  {
   "cell_type": "code",
   "execution_count": 11,
   "id": "81737e5d",
   "metadata": {},
   "outputs": [],
   "source": [
    "for i, value in enumerate(creditscoring):\n",
    "    if creditscoring[value].isna().any():\n",
    "        creditscoring[value].fillna(0, inplace=True)"
   ]
  },
  {
   "cell_type": "markdown",
   "id": "27df280c",
   "metadata": {},
   "source": [
    "1.3. Divide dataset into subsets according to [1,0] of paymenthistory \n",
    "\n",
    "This division is necessary to be able to scale it (scaling does not manage missing values well). The subsets are rejoined later on."
   ]
  },
  {
   "cell_type": "code",
   "execution_count": 12,
   "id": "998bcc38",
   "metadata": {},
   "outputs": [],
   "source": [
    "subset1 = creditscoring[creditscoring['paymenthistory'] == 1]\n",
    "subset2 = creditscoring[creditscoring['paymenthistory'] == 0]"
   ]
  },
  {
   "cell_type": "code",
   "execution_count": 13,
   "id": "1b4751c9",
   "metadata": {},
   "outputs": [
    {
     "name": "stderr",
     "output_type": "stream",
     "text": [
      "C:\\Users\\felis\\AppData\\Local\\Temp\\ipykernel_26280\\490436847.py:1: SettingWithCopyWarning: \n",
      "A value is trying to be set on a copy of a slice from a DataFrame\n",
      "\n",
      "See the caveats in the documentation: https://pandas.pydata.org/pandas-docs/stable/user_guide/indexing.html#returning-a-view-versus-a-copy\n",
      "  subset1.drop(columns = [\"paymenthistory\"], axis = 1, inplace = True)\n"
     ]
    }
   ],
   "source": [
    "subset1.drop(columns = [\"paymenthistory\"], axis = 1, inplace = True)"
   ]
  },
  {
   "cell_type": "code",
   "execution_count": 14,
   "id": "8c0e27dd",
   "metadata": {},
   "outputs": [
    {
     "name": "stderr",
     "output_type": "stream",
     "text": [
      "C:\\Users\\felis\\AppData\\Local\\Temp\\ipykernel_26280\\2421970458.py:1: SettingWithCopyWarning: \n",
      "A value is trying to be set on a copy of a slice from a DataFrame\n",
      "\n",
      "See the caveats in the documentation: https://pandas.pydata.org/pandas-docs/stable/user_guide/indexing.html#returning-a-view-versus-a-copy\n",
      "  subset2.drop(columns = [\"nolatepayment\", \"timelatepayment\"], axis = 1, inplace = True)\n"
     ]
    }
   ],
   "source": [
    "subset2.drop(columns = [\"nolatepayment\", \"timelatepayment\"], axis = 1, inplace = True)"
   ]
  },
  {
   "cell_type": "markdown",
   "id": "3cd88f23",
   "metadata": {},
   "source": [
    "1.4. Scale Data"
   ]
  },
  {
   "cell_type": "code",
   "execution_count": 15,
   "id": "32a4f8a0",
   "metadata": {},
   "outputs": [],
   "source": [
    "scaler = MinMaxScaler(feature_range=(-1, 1)) # MinMaxScaler instead of StandardScaler to avoid 0 values\n",
    "subset1 = scaler.fit_transform(subset1)\n",
    "subset2 = scaler.fit_transform(subset2)"
   ]
  },
  {
   "cell_type": "code",
   "execution_count": 16,
   "id": "a081423d",
   "metadata": {},
   "outputs": [],
   "source": [
    "subset1 = pd.DataFrame(subset1)\n",
    "subset2 = pd.DataFrame(subset2)"
   ]
  },
  {
   "cell_type": "code",
   "execution_count": 17,
   "id": "e291f9ef",
   "metadata": {},
   "outputs": [],
   "source": [
    "subset1.rename(columns={\n",
    "    0: \"nolatepayment\",\n",
    "    1: \"timelatepayment\",\n",
    "    2: \"lengthcredithistory\",\n",
    "    3: \"creditmix\",\n",
    "    4: \"newcredit\",\n",
    "    5: \"amountsowned\"\n",
    "}, inplace=True)"
   ]
  },
  {
   "cell_type": "code",
   "execution_count": 18,
   "id": "1b812b96",
   "metadata": {},
   "outputs": [],
   "source": [
    "subset2.rename(columns={\n",
    "    0: \"paymenthistory\",\n",
    "    1: \"lengthcredithistory\",\n",
    "    2: \"creditmix\",\n",
    "    3: \"newcredit\",\n",
    "    4: \"amountsowned\"\n",
    "}, inplace=True)"
   ]
  },
  {
   "cell_type": "code",
   "execution_count": 20,
   "id": "9404e341",
   "metadata": {},
   "outputs": [
    {
     "data": {
      "text/html": [
       "<div>\n",
       "<style scoped>\n",
       "    .dataframe tbody tr th:only-of-type {\n",
       "        vertical-align: middle;\n",
       "    }\n",
       "\n",
       "    .dataframe tbody tr th {\n",
       "        vertical-align: top;\n",
       "    }\n",
       "\n",
       "    .dataframe thead th {\n",
       "        text-align: right;\n",
       "    }\n",
       "</style>\n",
       "<table border=\"1\" class=\"dataframe\">\n",
       "  <thead>\n",
       "    <tr style=\"text-align: right;\">\n",
       "      <th></th>\n",
       "      <th>nolatepayment</th>\n",
       "      <th>timelatepayment</th>\n",
       "      <th>lengthcredithistory</th>\n",
       "      <th>creditmix</th>\n",
       "      <th>newcredit</th>\n",
       "      <th>amountsowned</th>\n",
       "    </tr>\n",
       "  </thead>\n",
       "  <tbody>\n",
       "    <tr>\n",
       "      <th>0</th>\n",
       "      <td>-1.0</td>\n",
       "      <td>-1.0</td>\n",
       "      <td>-0.573544</td>\n",
       "      <td>1.0</td>\n",
       "      <td>1.0</td>\n",
       "      <td>0.644136</td>\n",
       "    </tr>\n",
       "    <tr>\n",
       "      <th>1</th>\n",
       "      <td>-1.0</td>\n",
       "      <td>-1.0</td>\n",
       "      <td>-1.000000</td>\n",
       "      <td>-1.0</td>\n",
       "      <td>1.0</td>\n",
       "      <td>-1.000000</td>\n",
       "    </tr>\n",
       "    <tr>\n",
       "      <th>2</th>\n",
       "      <td>-1.0</td>\n",
       "      <td>-1.0</td>\n",
       "      <td>-0.368085</td>\n",
       "      <td>1.0</td>\n",
       "      <td>1.0</td>\n",
       "      <td>0.739598</td>\n",
       "    </tr>\n",
       "    <tr>\n",
       "      <th>3</th>\n",
       "      <td>-1.0</td>\n",
       "      <td>-1.0</td>\n",
       "      <td>-0.600632</td>\n",
       "      <td>-0.5</td>\n",
       "      <td>-1.0</td>\n",
       "      <td>0.095730</td>\n",
       "    </tr>\n",
       "    <tr>\n",
       "      <th>4</th>\n",
       "      <td>-1.0</td>\n",
       "      <td>-1.0</td>\n",
       "      <td>-0.617282</td>\n",
       "      <td>-0.5</td>\n",
       "      <td>-1.0</td>\n",
       "      <td>-0.712458</td>\n",
       "    </tr>\n",
       "  </tbody>\n",
       "</table>\n",
       "</div>"
      ],
      "text/plain": [
       "   nolatepayment  timelatepayment  lengthcredithistory  creditmix  newcredit  \\\n",
       "0           -1.0             -1.0            -0.573544        1.0        1.0   \n",
       "1           -1.0             -1.0            -1.000000       -1.0        1.0   \n",
       "2           -1.0             -1.0            -0.368085        1.0        1.0   \n",
       "3           -1.0             -1.0            -0.600632       -0.5       -1.0   \n",
       "4           -1.0             -1.0            -0.617282       -0.5       -1.0   \n",
       "\n",
       "   amountsowned  \n",
       "0      0.644136  \n",
       "1     -1.000000  \n",
       "2      0.739598  \n",
       "3      0.095730  \n",
       "4     -0.712458  "
      ]
     },
     "execution_count": 20,
     "metadata": {},
     "output_type": "execute_result"
    }
   ],
   "source": [
    "subset1.head()"
   ]
  },
  {
   "cell_type": "code",
   "execution_count": 21,
   "id": "7ef0cae8",
   "metadata": {},
   "outputs": [
    {
     "data": {
      "text/html": [
       "<div>\n",
       "<style scoped>\n",
       "    .dataframe tbody tr th:only-of-type {\n",
       "        vertical-align: middle;\n",
       "    }\n",
       "\n",
       "    .dataframe tbody tr th {\n",
       "        vertical-align: top;\n",
       "    }\n",
       "\n",
       "    .dataframe thead th {\n",
       "        text-align: right;\n",
       "    }\n",
       "</style>\n",
       "<table border=\"1\" class=\"dataframe\">\n",
       "  <thead>\n",
       "    <tr style=\"text-align: right;\">\n",
       "      <th></th>\n",
       "      <th>paymenthistory</th>\n",
       "      <th>lengthcredithistory</th>\n",
       "      <th>creditmix</th>\n",
       "      <th>newcredit</th>\n",
       "      <th>amountsowned</th>\n",
       "    </tr>\n",
       "  </thead>\n",
       "  <tbody>\n",
       "    <tr>\n",
       "      <th>0</th>\n",
       "      <td>-1.0</td>\n",
       "      <td>-0.431639</td>\n",
       "      <td>0.0</td>\n",
       "      <td>1.0</td>\n",
       "      <td>0.389039</td>\n",
       "    </tr>\n",
       "    <tr>\n",
       "      <th>1</th>\n",
       "      <td>-1.0</td>\n",
       "      <td>-0.577221</td>\n",
       "      <td>1.0</td>\n",
       "      <td>1.0</td>\n",
       "      <td>0.087354</td>\n",
       "    </tr>\n",
       "    <tr>\n",
       "      <th>2</th>\n",
       "      <td>-1.0</td>\n",
       "      <td>-0.708405</td>\n",
       "      <td>0.5</td>\n",
       "      <td>-1.0</td>\n",
       "      <td>-0.412595</td>\n",
       "    </tr>\n",
       "    <tr>\n",
       "      <th>3</th>\n",
       "      <td>-1.0</td>\n",
       "      <td>-0.226672</td>\n",
       "      <td>0.0</td>\n",
       "      <td>1.0</td>\n",
       "      <td>0.165476</td>\n",
       "    </tr>\n",
       "    <tr>\n",
       "      <th>4</th>\n",
       "      <td>-1.0</td>\n",
       "      <td>-0.927189</td>\n",
       "      <td>-0.5</td>\n",
       "      <td>1.0</td>\n",
       "      <td>-0.677396</td>\n",
       "    </tr>\n",
       "  </tbody>\n",
       "</table>\n",
       "</div>"
      ],
      "text/plain": [
       "   paymenthistory  lengthcredithistory  creditmix  newcredit  amountsowned\n",
       "0            -1.0            -0.431639        0.0        1.0      0.389039\n",
       "1            -1.0            -0.577221        1.0        1.0      0.087354\n",
       "2            -1.0            -0.708405        0.5       -1.0     -0.412595\n",
       "3            -1.0            -0.226672        0.0        1.0      0.165476\n",
       "4            -1.0            -0.927189       -0.5        1.0     -0.677396"
      ]
     },
     "execution_count": 21,
     "metadata": {},
     "output_type": "execute_result"
    }
   ],
   "source": [
    "subset2.head()"
   ]
  },
  {
   "cell_type": "markdown",
   "id": "860adbc9",
   "metadata": {},
   "source": [
    "2.  Credit Scores\n",
    "\n",
    "https://www.investopedia.com/terms/c/credit_score.asp\n",
    "\n",
    "The three major credit reporting agencies in the U.S. (Equifax, Experian, and TransUnion) report, update, and store consumers’ credit histories. While there can be differences in the information collected by the three credit bureaus, five main factors are evaluated when calculating a credit score:3\n",
    "\n",
    "    Payment history (35%)\n",
    "    Amounts owed (30%)\n",
    "    Length of credit history (15%)\n",
    "    Types of credit (10%)\n",
    "    New credit (10%)\n",
    "\n",
    "Payment history: Your payment history includes whether you've paid your bills on time. It takes into account how many late payments you've had, and how late they were.\n",
    "    \n",
    "Amounts owed: Amounts owed is the percentage of credit you've used compared to the credit available to you, which is known as credit utilization.\n",
    "\n",
    "Length of credit history: Longer credit histories are considered less risky, as there is more data to determine payment history.\n",
    "\n",
    "Credit mix: A variety of credit types shows lenders you can manage various types of credit. It can include installment credit, such as car loans or mortgage loans, and revolving credit, such as credit cards.\n",
    "\n",
    "New credit: Lenders view new credit as a potential sign you may be desperate for credit. Too many recent applications for credit can negatively affect your credit score.\n"
   ]
  },
  {
   "cell_type": "markdown",
   "id": "399c8950",
   "metadata": {},
   "source": [
    "2.1. Apply weights"
   ]
  },
  {
   "cell_type": "code",
   "execution_count": 22,
   "id": "594cdc79",
   "metadata": {},
   "outputs": [],
   "source": [
    "# Define the weight vector\n",
    "weights_subset1 = [0.175, 0.175, 0.3, 0.15, 0.1, 0.1]\n",
    "weights_subset2 = [0.35, 0.3, 0.15, 0.1, 0.1]\n",
    "\n",
    "# Apply the weights to each column\n",
    "weighted_creditscoring_subset1 = subset1 * weights_subset1\n",
    "weighted_creditscoring_subset2 = subset2 * weights_subset2"
   ]
  },
  {
   "cell_type": "code",
   "execution_count": 23,
   "id": "4b8c7aec",
   "metadata": {},
   "outputs": [
    {
     "data": {
      "text/html": [
       "<div>\n",
       "<style scoped>\n",
       "    .dataframe tbody tr th:only-of-type {\n",
       "        vertical-align: middle;\n",
       "    }\n",
       "\n",
       "    .dataframe tbody tr th {\n",
       "        vertical-align: top;\n",
       "    }\n",
       "\n",
       "    .dataframe thead th {\n",
       "        text-align: right;\n",
       "    }\n",
       "</style>\n",
       "<table border=\"1\" class=\"dataframe\">\n",
       "  <thead>\n",
       "    <tr style=\"text-align: right;\">\n",
       "      <th></th>\n",
       "      <th>nolatepayment</th>\n",
       "      <th>timelatepayment</th>\n",
       "      <th>lengthcredithistory</th>\n",
       "      <th>creditmix</th>\n",
       "      <th>newcredit</th>\n",
       "      <th>amountsowned</th>\n",
       "    </tr>\n",
       "  </thead>\n",
       "  <tbody>\n",
       "    <tr>\n",
       "      <th>0</th>\n",
       "      <td>-0.175</td>\n",
       "      <td>-0.175</td>\n",
       "      <td>-0.172063</td>\n",
       "      <td>0.150</td>\n",
       "      <td>0.1</td>\n",
       "      <td>0.064414</td>\n",
       "    </tr>\n",
       "    <tr>\n",
       "      <th>1</th>\n",
       "      <td>-0.175</td>\n",
       "      <td>-0.175</td>\n",
       "      <td>-0.300000</td>\n",
       "      <td>-0.150</td>\n",
       "      <td>0.1</td>\n",
       "      <td>-0.100000</td>\n",
       "    </tr>\n",
       "    <tr>\n",
       "      <th>2</th>\n",
       "      <td>-0.175</td>\n",
       "      <td>-0.175</td>\n",
       "      <td>-0.110426</td>\n",
       "      <td>0.150</td>\n",
       "      <td>0.1</td>\n",
       "      <td>0.073960</td>\n",
       "    </tr>\n",
       "    <tr>\n",
       "      <th>3</th>\n",
       "      <td>-0.175</td>\n",
       "      <td>-0.175</td>\n",
       "      <td>-0.180190</td>\n",
       "      <td>-0.075</td>\n",
       "      <td>-0.1</td>\n",
       "      <td>0.009573</td>\n",
       "    </tr>\n",
       "    <tr>\n",
       "      <th>4</th>\n",
       "      <td>-0.175</td>\n",
       "      <td>-0.175</td>\n",
       "      <td>-0.185185</td>\n",
       "      <td>-0.075</td>\n",
       "      <td>-0.1</td>\n",
       "      <td>-0.071246</td>\n",
       "    </tr>\n",
       "    <tr>\n",
       "      <th>...</th>\n",
       "      <td>...</td>\n",
       "      <td>...</td>\n",
       "      <td>...</td>\n",
       "      <td>...</td>\n",
       "      <td>...</td>\n",
       "      <td>...</td>\n",
       "    </tr>\n",
       "    <tr>\n",
       "      <th>595</th>\n",
       "      <td>-0.175</td>\n",
       "      <td>-0.175</td>\n",
       "      <td>0.284670</td>\n",
       "      <td>0.075</td>\n",
       "      <td>0.1</td>\n",
       "      <td>0.070833</td>\n",
       "    </tr>\n",
       "    <tr>\n",
       "      <th>596</th>\n",
       "      <td>-0.175</td>\n",
       "      <td>-0.175</td>\n",
       "      <td>0.043790</td>\n",
       "      <td>0.075</td>\n",
       "      <td>0.1</td>\n",
       "      <td>0.011168</td>\n",
       "    </tr>\n",
       "    <tr>\n",
       "      <th>597</th>\n",
       "      <td>-0.175</td>\n",
       "      <td>-0.175</td>\n",
       "      <td>-0.127756</td>\n",
       "      <td>0.075</td>\n",
       "      <td>0.1</td>\n",
       "      <td>-0.001277</td>\n",
       "    </tr>\n",
       "    <tr>\n",
       "      <th>598</th>\n",
       "      <td>-0.175</td>\n",
       "      <td>-0.175</td>\n",
       "      <td>-0.197309</td>\n",
       "      <td>0.150</td>\n",
       "      <td>0.1</td>\n",
       "      <td>-0.055558</td>\n",
       "    </tr>\n",
       "    <tr>\n",
       "      <th>599</th>\n",
       "      <td>-0.175</td>\n",
       "      <td>-0.175</td>\n",
       "      <td>0.258709</td>\n",
       "      <td>0.075</td>\n",
       "      <td>-0.1</td>\n",
       "      <td>-0.046382</td>\n",
       "    </tr>\n",
       "  </tbody>\n",
       "</table>\n",
       "<p>600 rows × 6 columns</p>\n",
       "</div>"
      ],
      "text/plain": [
       "     nolatepayment  timelatepayment  lengthcredithistory  creditmix  \\\n",
       "0           -0.175           -0.175            -0.172063      0.150   \n",
       "1           -0.175           -0.175            -0.300000     -0.150   \n",
       "2           -0.175           -0.175            -0.110426      0.150   \n",
       "3           -0.175           -0.175            -0.180190     -0.075   \n",
       "4           -0.175           -0.175            -0.185185     -0.075   \n",
       "..             ...              ...                  ...        ...   \n",
       "595         -0.175           -0.175             0.284670      0.075   \n",
       "596         -0.175           -0.175             0.043790      0.075   \n",
       "597         -0.175           -0.175            -0.127756      0.075   \n",
       "598         -0.175           -0.175            -0.197309      0.150   \n",
       "599         -0.175           -0.175             0.258709      0.075   \n",
       "\n",
       "     newcredit  amountsowned  \n",
       "0          0.1      0.064414  \n",
       "1          0.1     -0.100000  \n",
       "2          0.1      0.073960  \n",
       "3         -0.1      0.009573  \n",
       "4         -0.1     -0.071246  \n",
       "..         ...           ...  \n",
       "595        0.1      0.070833  \n",
       "596        0.1      0.011168  \n",
       "597        0.1     -0.001277  \n",
       "598        0.1     -0.055558  \n",
       "599       -0.1     -0.046382  \n",
       "\n",
       "[600 rows x 6 columns]"
      ]
     },
     "execution_count": 23,
     "metadata": {},
     "output_type": "execute_result"
    }
   ],
   "source": [
    "weighted_creditscoring_subset1"
   ]
  },
  {
   "cell_type": "code",
   "execution_count": 24,
   "id": "3c64abd6",
   "metadata": {},
   "outputs": [
    {
     "data": {
      "text/html": [
       "<div>\n",
       "<style scoped>\n",
       "    .dataframe tbody tr th:only-of-type {\n",
       "        vertical-align: middle;\n",
       "    }\n",
       "\n",
       "    .dataframe tbody tr th {\n",
       "        vertical-align: top;\n",
       "    }\n",
       "\n",
       "    .dataframe thead th {\n",
       "        text-align: right;\n",
       "    }\n",
       "</style>\n",
       "<table border=\"1\" class=\"dataframe\">\n",
       "  <thead>\n",
       "    <tr style=\"text-align: right;\">\n",
       "      <th></th>\n",
       "      <th>paymenthistory</th>\n",
       "      <th>lengthcredithistory</th>\n",
       "      <th>creditmix</th>\n",
       "      <th>newcredit</th>\n",
       "      <th>amountsowned</th>\n",
       "    </tr>\n",
       "  </thead>\n",
       "  <tbody>\n",
       "    <tr>\n",
       "      <th>0</th>\n",
       "      <td>-0.35</td>\n",
       "      <td>-0.129492</td>\n",
       "      <td>0.000</td>\n",
       "      <td>0.1</td>\n",
       "      <td>0.038904</td>\n",
       "    </tr>\n",
       "    <tr>\n",
       "      <th>1</th>\n",
       "      <td>-0.35</td>\n",
       "      <td>-0.173166</td>\n",
       "      <td>0.150</td>\n",
       "      <td>0.1</td>\n",
       "      <td>0.008735</td>\n",
       "    </tr>\n",
       "    <tr>\n",
       "      <th>2</th>\n",
       "      <td>-0.35</td>\n",
       "      <td>-0.212522</td>\n",
       "      <td>0.075</td>\n",
       "      <td>-0.1</td>\n",
       "      <td>-0.041260</td>\n",
       "    </tr>\n",
       "    <tr>\n",
       "      <th>3</th>\n",
       "      <td>-0.35</td>\n",
       "      <td>-0.068002</td>\n",
       "      <td>0.000</td>\n",
       "      <td>0.1</td>\n",
       "      <td>0.016548</td>\n",
       "    </tr>\n",
       "    <tr>\n",
       "      <th>4</th>\n",
       "      <td>-0.35</td>\n",
       "      <td>-0.278157</td>\n",
       "      <td>-0.075</td>\n",
       "      <td>0.1</td>\n",
       "      <td>-0.067740</td>\n",
       "    </tr>\n",
       "    <tr>\n",
       "      <th>...</th>\n",
       "      <td>...</td>\n",
       "      <td>...</td>\n",
       "      <td>...</td>\n",
       "      <td>...</td>\n",
       "      <td>...</td>\n",
       "    </tr>\n",
       "    <tr>\n",
       "      <th>395</th>\n",
       "      <td>-0.35</td>\n",
       "      <td>-0.005942</td>\n",
       "      <td>0.150</td>\n",
       "      <td>-0.1</td>\n",
       "      <td>0.096807</td>\n",
       "    </tr>\n",
       "    <tr>\n",
       "      <th>396</th>\n",
       "      <td>-0.35</td>\n",
       "      <td>0.300000</td>\n",
       "      <td>0.150</td>\n",
       "      <td>-0.1</td>\n",
       "      <td>0.065307</td>\n",
       "    </tr>\n",
       "    <tr>\n",
       "      <th>397</th>\n",
       "      <td>-0.35</td>\n",
       "      <td>-0.186109</td>\n",
       "      <td>0.075</td>\n",
       "      <td>-0.1</td>\n",
       "      <td>-0.011739</td>\n",
       "    </tr>\n",
       "    <tr>\n",
       "      <th>398</th>\n",
       "      <td>-0.35</td>\n",
       "      <td>-0.091787</td>\n",
       "      <td>-0.075</td>\n",
       "      <td>-0.1</td>\n",
       "      <td>-0.027721</td>\n",
       "    </tr>\n",
       "    <tr>\n",
       "      <th>399</th>\n",
       "      <td>-0.35</td>\n",
       "      <td>-0.300000</td>\n",
       "      <td>-0.150</td>\n",
       "      <td>0.1</td>\n",
       "      <td>-0.100000</td>\n",
       "    </tr>\n",
       "  </tbody>\n",
       "</table>\n",
       "<p>400 rows × 5 columns</p>\n",
       "</div>"
      ],
      "text/plain": [
       "     paymenthistory  lengthcredithistory  creditmix  newcredit  amountsowned\n",
       "0             -0.35            -0.129492      0.000        0.1      0.038904\n",
       "1             -0.35            -0.173166      0.150        0.1      0.008735\n",
       "2             -0.35            -0.212522      0.075       -0.1     -0.041260\n",
       "3             -0.35            -0.068002      0.000        0.1      0.016548\n",
       "4             -0.35            -0.278157     -0.075        0.1     -0.067740\n",
       "..              ...                  ...        ...        ...           ...\n",
       "395           -0.35            -0.005942      0.150       -0.1      0.096807\n",
       "396           -0.35             0.300000      0.150       -0.1      0.065307\n",
       "397           -0.35            -0.186109      0.075       -0.1     -0.011739\n",
       "398           -0.35            -0.091787     -0.075       -0.1     -0.027721\n",
       "399           -0.35            -0.300000     -0.150        0.1     -0.100000\n",
       "\n",
       "[400 rows x 5 columns]"
      ]
     },
     "execution_count": 24,
     "metadata": {},
     "output_type": "execute_result"
    }
   ],
   "source": [
    "weighted_creditscoring_subset2"
   ]
  },
  {
   "cell_type": "markdown",
   "id": "b1b47e94",
   "metadata": {},
   "source": [
    "2.2. Aggregate Scores"
   ]
  },
  {
   "cell_type": "code",
   "execution_count": 25,
   "id": "f3d7e706",
   "metadata": {},
   "outputs": [],
   "source": [
    "weighted_creditscoring_subset1['sum_all_columns'] = weighted_creditscoring_subset1.sum(axis=1)"
   ]
  },
  {
   "cell_type": "code",
   "execution_count": 26,
   "id": "d0a0754e",
   "metadata": {},
   "outputs": [],
   "source": [
    "weighted_creditscoring_subset2['sum_all_columns'] = weighted_creditscoring_subset2.sum(axis=1)"
   ]
  },
  {
   "cell_type": "code",
   "execution_count": 27,
   "id": "327cd960",
   "metadata": {},
   "outputs": [
    {
     "data": {
      "text/html": [
       "<div>\n",
       "<style scoped>\n",
       "    .dataframe tbody tr th:only-of-type {\n",
       "        vertical-align: middle;\n",
       "    }\n",
       "\n",
       "    .dataframe tbody tr th {\n",
       "        vertical-align: top;\n",
       "    }\n",
       "\n",
       "    .dataframe thead th {\n",
       "        text-align: right;\n",
       "    }\n",
       "</style>\n",
       "<table border=\"1\" class=\"dataframe\">\n",
       "  <thead>\n",
       "    <tr style=\"text-align: right;\">\n",
       "      <th></th>\n",
       "      <th>nolatepayment</th>\n",
       "      <th>timelatepayment</th>\n",
       "      <th>lengthcredithistory</th>\n",
       "      <th>creditmix</th>\n",
       "      <th>newcredit</th>\n",
       "      <th>amountsowned</th>\n",
       "      <th>sum_all_columns</th>\n",
       "    </tr>\n",
       "  </thead>\n",
       "  <tbody>\n",
       "    <tr>\n",
       "      <th>0</th>\n",
       "      <td>-0.175</td>\n",
       "      <td>-0.175</td>\n",
       "      <td>-0.172063</td>\n",
       "      <td>0.150</td>\n",
       "      <td>0.1</td>\n",
       "      <td>0.064414</td>\n",
       "      <td>-0.207649</td>\n",
       "    </tr>\n",
       "    <tr>\n",
       "      <th>1</th>\n",
       "      <td>-0.175</td>\n",
       "      <td>-0.175</td>\n",
       "      <td>-0.300000</td>\n",
       "      <td>-0.150</td>\n",
       "      <td>0.1</td>\n",
       "      <td>-0.100000</td>\n",
       "      <td>-0.800000</td>\n",
       "    </tr>\n",
       "    <tr>\n",
       "      <th>2</th>\n",
       "      <td>-0.175</td>\n",
       "      <td>-0.175</td>\n",
       "      <td>-0.110426</td>\n",
       "      <td>0.150</td>\n",
       "      <td>0.1</td>\n",
       "      <td>0.073960</td>\n",
       "      <td>-0.136466</td>\n",
       "    </tr>\n",
       "    <tr>\n",
       "      <th>3</th>\n",
       "      <td>-0.175</td>\n",
       "      <td>-0.175</td>\n",
       "      <td>-0.180190</td>\n",
       "      <td>-0.075</td>\n",
       "      <td>-0.1</td>\n",
       "      <td>0.009573</td>\n",
       "      <td>-0.695617</td>\n",
       "    </tr>\n",
       "    <tr>\n",
       "      <th>4</th>\n",
       "      <td>-0.175</td>\n",
       "      <td>-0.175</td>\n",
       "      <td>-0.185185</td>\n",
       "      <td>-0.075</td>\n",
       "      <td>-0.1</td>\n",
       "      <td>-0.071246</td>\n",
       "      <td>-0.781430</td>\n",
       "    </tr>\n",
       "    <tr>\n",
       "      <th>...</th>\n",
       "      <td>...</td>\n",
       "      <td>...</td>\n",
       "      <td>...</td>\n",
       "      <td>...</td>\n",
       "      <td>...</td>\n",
       "      <td>...</td>\n",
       "      <td>...</td>\n",
       "    </tr>\n",
       "    <tr>\n",
       "      <th>595</th>\n",
       "      <td>-0.175</td>\n",
       "      <td>-0.175</td>\n",
       "      <td>0.284670</td>\n",
       "      <td>0.075</td>\n",
       "      <td>0.1</td>\n",
       "      <td>0.070833</td>\n",
       "      <td>0.180503</td>\n",
       "    </tr>\n",
       "    <tr>\n",
       "      <th>596</th>\n",
       "      <td>-0.175</td>\n",
       "      <td>-0.175</td>\n",
       "      <td>0.043790</td>\n",
       "      <td>0.075</td>\n",
       "      <td>0.1</td>\n",
       "      <td>0.011168</td>\n",
       "      <td>-0.120041</td>\n",
       "    </tr>\n",
       "    <tr>\n",
       "      <th>597</th>\n",
       "      <td>-0.175</td>\n",
       "      <td>-0.175</td>\n",
       "      <td>-0.127756</td>\n",
       "      <td>0.075</td>\n",
       "      <td>0.1</td>\n",
       "      <td>-0.001277</td>\n",
       "      <td>-0.304033</td>\n",
       "    </tr>\n",
       "    <tr>\n",
       "      <th>598</th>\n",
       "      <td>-0.175</td>\n",
       "      <td>-0.175</td>\n",
       "      <td>-0.197309</td>\n",
       "      <td>0.150</td>\n",
       "      <td>0.1</td>\n",
       "      <td>-0.055558</td>\n",
       "      <td>-0.352867</td>\n",
       "    </tr>\n",
       "    <tr>\n",
       "      <th>599</th>\n",
       "      <td>-0.175</td>\n",
       "      <td>-0.175</td>\n",
       "      <td>0.258709</td>\n",
       "      <td>0.075</td>\n",
       "      <td>-0.1</td>\n",
       "      <td>-0.046382</td>\n",
       "      <td>-0.162673</td>\n",
       "    </tr>\n",
       "  </tbody>\n",
       "</table>\n",
       "<p>600 rows × 7 columns</p>\n",
       "</div>"
      ],
      "text/plain": [
       "     nolatepayment  timelatepayment  lengthcredithistory  creditmix  \\\n",
       "0           -0.175           -0.175            -0.172063      0.150   \n",
       "1           -0.175           -0.175            -0.300000     -0.150   \n",
       "2           -0.175           -0.175            -0.110426      0.150   \n",
       "3           -0.175           -0.175            -0.180190     -0.075   \n",
       "4           -0.175           -0.175            -0.185185     -0.075   \n",
       "..             ...              ...                  ...        ...   \n",
       "595         -0.175           -0.175             0.284670      0.075   \n",
       "596         -0.175           -0.175             0.043790      0.075   \n",
       "597         -0.175           -0.175            -0.127756      0.075   \n",
       "598         -0.175           -0.175            -0.197309      0.150   \n",
       "599         -0.175           -0.175             0.258709      0.075   \n",
       "\n",
       "     newcredit  amountsowned  sum_all_columns  \n",
       "0          0.1      0.064414        -0.207649  \n",
       "1          0.1     -0.100000        -0.800000  \n",
       "2          0.1      0.073960        -0.136466  \n",
       "3         -0.1      0.009573        -0.695617  \n",
       "4         -0.1     -0.071246        -0.781430  \n",
       "..         ...           ...              ...  \n",
       "595        0.1      0.070833         0.180503  \n",
       "596        0.1      0.011168        -0.120041  \n",
       "597        0.1     -0.001277        -0.304033  \n",
       "598        0.1     -0.055558        -0.352867  \n",
       "599       -0.1     -0.046382        -0.162673  \n",
       "\n",
       "[600 rows x 7 columns]"
      ]
     },
     "execution_count": 27,
     "metadata": {},
     "output_type": "execute_result"
    }
   ],
   "source": [
    "weighted_creditscoring_subset1"
   ]
  },
  {
   "cell_type": "code",
   "execution_count": 28,
   "id": "6a9a97c3",
   "metadata": {},
   "outputs": [
    {
     "data": {
      "text/html": [
       "<div>\n",
       "<style scoped>\n",
       "    .dataframe tbody tr th:only-of-type {\n",
       "        vertical-align: middle;\n",
       "    }\n",
       "\n",
       "    .dataframe tbody tr th {\n",
       "        vertical-align: top;\n",
       "    }\n",
       "\n",
       "    .dataframe thead th {\n",
       "        text-align: right;\n",
       "    }\n",
       "</style>\n",
       "<table border=\"1\" class=\"dataframe\">\n",
       "  <thead>\n",
       "    <tr style=\"text-align: right;\">\n",
       "      <th></th>\n",
       "      <th>paymenthistory</th>\n",
       "      <th>lengthcredithistory</th>\n",
       "      <th>creditmix</th>\n",
       "      <th>newcredit</th>\n",
       "      <th>amountsowned</th>\n",
       "      <th>sum_all_columns</th>\n",
       "    </tr>\n",
       "  </thead>\n",
       "  <tbody>\n",
       "    <tr>\n",
       "      <th>0</th>\n",
       "      <td>-0.35</td>\n",
       "      <td>-0.129492</td>\n",
       "      <td>0.000</td>\n",
       "      <td>0.1</td>\n",
       "      <td>0.038904</td>\n",
       "      <td>-0.340588</td>\n",
       "    </tr>\n",
       "    <tr>\n",
       "      <th>1</th>\n",
       "      <td>-0.35</td>\n",
       "      <td>-0.173166</td>\n",
       "      <td>0.150</td>\n",
       "      <td>0.1</td>\n",
       "      <td>0.008735</td>\n",
       "      <td>-0.264431</td>\n",
       "    </tr>\n",
       "    <tr>\n",
       "      <th>2</th>\n",
       "      <td>-0.35</td>\n",
       "      <td>-0.212522</td>\n",
       "      <td>0.075</td>\n",
       "      <td>-0.1</td>\n",
       "      <td>-0.041260</td>\n",
       "      <td>-0.628781</td>\n",
       "    </tr>\n",
       "    <tr>\n",
       "      <th>3</th>\n",
       "      <td>-0.35</td>\n",
       "      <td>-0.068002</td>\n",
       "      <td>0.000</td>\n",
       "      <td>0.1</td>\n",
       "      <td>0.016548</td>\n",
       "      <td>-0.301454</td>\n",
       "    </tr>\n",
       "    <tr>\n",
       "      <th>4</th>\n",
       "      <td>-0.35</td>\n",
       "      <td>-0.278157</td>\n",
       "      <td>-0.075</td>\n",
       "      <td>0.1</td>\n",
       "      <td>-0.067740</td>\n",
       "      <td>-0.670896</td>\n",
       "    </tr>\n",
       "    <tr>\n",
       "      <th>...</th>\n",
       "      <td>...</td>\n",
       "      <td>...</td>\n",
       "      <td>...</td>\n",
       "      <td>...</td>\n",
       "      <td>...</td>\n",
       "      <td>...</td>\n",
       "    </tr>\n",
       "    <tr>\n",
       "      <th>395</th>\n",
       "      <td>-0.35</td>\n",
       "      <td>-0.005942</td>\n",
       "      <td>0.150</td>\n",
       "      <td>-0.1</td>\n",
       "      <td>0.096807</td>\n",
       "      <td>-0.209135</td>\n",
       "    </tr>\n",
       "    <tr>\n",
       "      <th>396</th>\n",
       "      <td>-0.35</td>\n",
       "      <td>0.300000</td>\n",
       "      <td>0.150</td>\n",
       "      <td>-0.1</td>\n",
       "      <td>0.065307</td>\n",
       "      <td>0.065307</td>\n",
       "    </tr>\n",
       "    <tr>\n",
       "      <th>397</th>\n",
       "      <td>-0.35</td>\n",
       "      <td>-0.186109</td>\n",
       "      <td>0.075</td>\n",
       "      <td>-0.1</td>\n",
       "      <td>-0.011739</td>\n",
       "      <td>-0.572848</td>\n",
       "    </tr>\n",
       "    <tr>\n",
       "      <th>398</th>\n",
       "      <td>-0.35</td>\n",
       "      <td>-0.091787</td>\n",
       "      <td>-0.075</td>\n",
       "      <td>-0.1</td>\n",
       "      <td>-0.027721</td>\n",
       "      <td>-0.644508</td>\n",
       "    </tr>\n",
       "    <tr>\n",
       "      <th>399</th>\n",
       "      <td>-0.35</td>\n",
       "      <td>-0.300000</td>\n",
       "      <td>-0.150</td>\n",
       "      <td>0.1</td>\n",
       "      <td>-0.100000</td>\n",
       "      <td>-0.800000</td>\n",
       "    </tr>\n",
       "  </tbody>\n",
       "</table>\n",
       "<p>400 rows × 6 columns</p>\n",
       "</div>"
      ],
      "text/plain": [
       "     paymenthistory  lengthcredithistory  creditmix  newcredit  amountsowned  \\\n",
       "0             -0.35            -0.129492      0.000        0.1      0.038904   \n",
       "1             -0.35            -0.173166      0.150        0.1      0.008735   \n",
       "2             -0.35            -0.212522      0.075       -0.1     -0.041260   \n",
       "3             -0.35            -0.068002      0.000        0.1      0.016548   \n",
       "4             -0.35            -0.278157     -0.075        0.1     -0.067740   \n",
       "..              ...                  ...        ...        ...           ...   \n",
       "395           -0.35            -0.005942      0.150       -0.1      0.096807   \n",
       "396           -0.35             0.300000      0.150       -0.1      0.065307   \n",
       "397           -0.35            -0.186109      0.075       -0.1     -0.011739   \n",
       "398           -0.35            -0.091787     -0.075       -0.1     -0.027721   \n",
       "399           -0.35            -0.300000     -0.150        0.1     -0.100000   \n",
       "\n",
       "     sum_all_columns  \n",
       "0          -0.340588  \n",
       "1          -0.264431  \n",
       "2          -0.628781  \n",
       "3          -0.301454  \n",
       "4          -0.670896  \n",
       "..               ...  \n",
       "395        -0.209135  \n",
       "396         0.065307  \n",
       "397        -0.572848  \n",
       "398        -0.644508  \n",
       "399        -0.800000  \n",
       "\n",
       "[400 rows x 6 columns]"
      ]
     },
     "execution_count": 28,
     "metadata": {},
     "output_type": "execute_result"
    }
   ],
   "source": [
    "weighted_creditscoring_subset2"
   ]
  },
  {
   "cell_type": "code",
   "execution_count": 29,
   "id": "c3962dda",
   "metadata": {},
   "outputs": [
    {
     "data": {
      "text/plain": [
       "-0.9999999999999999"
      ]
     },
     "execution_count": 29,
     "metadata": {},
     "output_type": "execute_result"
    }
   ],
   "source": [
    "weighted_creditscoring_subset1[\"sum_all_columns\"].min()"
   ]
  },
  {
   "cell_type": "code",
   "execution_count": 30,
   "id": "661f6c89",
   "metadata": {},
   "outputs": [
    {
     "data": {
      "text/plain": [
       "0.1805026403091184"
      ]
     },
     "execution_count": 30,
     "metadata": {},
     "output_type": "execute_result"
    }
   ],
   "source": [
    "weighted_creditscoring_subset1[\"sum_all_columns\"].max()"
   ]
  },
  {
   "cell_type": "code",
   "execution_count": 31,
   "id": "e1f11e25",
   "metadata": {},
   "outputs": [
    {
     "data": {
      "text/plain": [
       "-0.9999999999999999"
      ]
     },
     "execution_count": 31,
     "metadata": {},
     "output_type": "execute_result"
    }
   ],
   "source": [
    "weighted_creditscoring_subset2[\"sum_all_columns\"].min()"
   ]
  },
  {
   "cell_type": "code",
   "execution_count": 32,
   "id": "ee6119e3",
   "metadata": {},
   "outputs": [
    {
     "data": {
      "text/plain": [
       "0.1266806674196994"
      ]
     },
     "execution_count": 32,
     "metadata": {},
     "output_type": "execute_result"
    }
   ],
   "source": [
    "weighted_creditscoring_subset2[\"sum_all_columns\"].max()"
   ]
  },
  {
   "cell_type": "markdown",
   "id": "2001eebe",
   "metadata": {},
   "source": [
    "2.3. Join subsets back to merged dataset"
   ]
  },
  {
   "cell_type": "code",
   "execution_count": 33,
   "id": "3c657104",
   "metadata": {},
   "outputs": [],
   "source": [
    "combined_weighted_creditscoring = pd.concat([weighted_creditscoring_subset1, weighted_creditscoring_subset2], ignore_index=True)"
   ]
  },
  {
   "cell_type": "code",
   "execution_count": 34,
   "id": "78ae699c",
   "metadata": {},
   "outputs": [
    {
     "data": {
      "text/html": [
       "<div>\n",
       "<style scoped>\n",
       "    .dataframe tbody tr th:only-of-type {\n",
       "        vertical-align: middle;\n",
       "    }\n",
       "\n",
       "    .dataframe tbody tr th {\n",
       "        vertical-align: top;\n",
       "    }\n",
       "\n",
       "    .dataframe thead th {\n",
       "        text-align: right;\n",
       "    }\n",
       "</style>\n",
       "<table border=\"1\" class=\"dataframe\">\n",
       "  <thead>\n",
       "    <tr style=\"text-align: right;\">\n",
       "      <th></th>\n",
       "      <th>nolatepayment</th>\n",
       "      <th>timelatepayment</th>\n",
       "      <th>lengthcredithistory</th>\n",
       "      <th>creditmix</th>\n",
       "      <th>newcredit</th>\n",
       "      <th>amountsowned</th>\n",
       "      <th>sum_all_columns</th>\n",
       "      <th>paymenthistory</th>\n",
       "    </tr>\n",
       "  </thead>\n",
       "  <tbody>\n",
       "    <tr>\n",
       "      <th>0</th>\n",
       "      <td>-0.175</td>\n",
       "      <td>-0.175</td>\n",
       "      <td>-0.172063</td>\n",
       "      <td>0.150</td>\n",
       "      <td>0.1</td>\n",
       "      <td>0.064414</td>\n",
       "      <td>-0.207649</td>\n",
       "      <td>NaN</td>\n",
       "    </tr>\n",
       "    <tr>\n",
       "      <th>1</th>\n",
       "      <td>-0.175</td>\n",
       "      <td>-0.175</td>\n",
       "      <td>-0.300000</td>\n",
       "      <td>-0.150</td>\n",
       "      <td>0.1</td>\n",
       "      <td>-0.100000</td>\n",
       "      <td>-0.800000</td>\n",
       "      <td>NaN</td>\n",
       "    </tr>\n",
       "    <tr>\n",
       "      <th>2</th>\n",
       "      <td>-0.175</td>\n",
       "      <td>-0.175</td>\n",
       "      <td>-0.110426</td>\n",
       "      <td>0.150</td>\n",
       "      <td>0.1</td>\n",
       "      <td>0.073960</td>\n",
       "      <td>-0.136466</td>\n",
       "      <td>NaN</td>\n",
       "    </tr>\n",
       "    <tr>\n",
       "      <th>3</th>\n",
       "      <td>-0.175</td>\n",
       "      <td>-0.175</td>\n",
       "      <td>-0.180190</td>\n",
       "      <td>-0.075</td>\n",
       "      <td>-0.1</td>\n",
       "      <td>0.009573</td>\n",
       "      <td>-0.695617</td>\n",
       "      <td>NaN</td>\n",
       "    </tr>\n",
       "    <tr>\n",
       "      <th>4</th>\n",
       "      <td>-0.175</td>\n",
       "      <td>-0.175</td>\n",
       "      <td>-0.185185</td>\n",
       "      <td>-0.075</td>\n",
       "      <td>-0.1</td>\n",
       "      <td>-0.071246</td>\n",
       "      <td>-0.781430</td>\n",
       "      <td>NaN</td>\n",
       "    </tr>\n",
       "    <tr>\n",
       "      <th>...</th>\n",
       "      <td>...</td>\n",
       "      <td>...</td>\n",
       "      <td>...</td>\n",
       "      <td>...</td>\n",
       "      <td>...</td>\n",
       "      <td>...</td>\n",
       "      <td>...</td>\n",
       "      <td>...</td>\n",
       "    </tr>\n",
       "    <tr>\n",
       "      <th>995</th>\n",
       "      <td>NaN</td>\n",
       "      <td>NaN</td>\n",
       "      <td>-0.005942</td>\n",
       "      <td>0.150</td>\n",
       "      <td>-0.1</td>\n",
       "      <td>0.096807</td>\n",
       "      <td>-0.209135</td>\n",
       "      <td>-0.35</td>\n",
       "    </tr>\n",
       "    <tr>\n",
       "      <th>996</th>\n",
       "      <td>NaN</td>\n",
       "      <td>NaN</td>\n",
       "      <td>0.300000</td>\n",
       "      <td>0.150</td>\n",
       "      <td>-0.1</td>\n",
       "      <td>0.065307</td>\n",
       "      <td>0.065307</td>\n",
       "      <td>-0.35</td>\n",
       "    </tr>\n",
       "    <tr>\n",
       "      <th>997</th>\n",
       "      <td>NaN</td>\n",
       "      <td>NaN</td>\n",
       "      <td>-0.186109</td>\n",
       "      <td>0.075</td>\n",
       "      <td>-0.1</td>\n",
       "      <td>-0.011739</td>\n",
       "      <td>-0.572848</td>\n",
       "      <td>-0.35</td>\n",
       "    </tr>\n",
       "    <tr>\n",
       "      <th>998</th>\n",
       "      <td>NaN</td>\n",
       "      <td>NaN</td>\n",
       "      <td>-0.091787</td>\n",
       "      <td>-0.075</td>\n",
       "      <td>-0.1</td>\n",
       "      <td>-0.027721</td>\n",
       "      <td>-0.644508</td>\n",
       "      <td>-0.35</td>\n",
       "    </tr>\n",
       "    <tr>\n",
       "      <th>999</th>\n",
       "      <td>NaN</td>\n",
       "      <td>NaN</td>\n",
       "      <td>-0.300000</td>\n",
       "      <td>-0.150</td>\n",
       "      <td>0.1</td>\n",
       "      <td>-0.100000</td>\n",
       "      <td>-0.800000</td>\n",
       "      <td>-0.35</td>\n",
       "    </tr>\n",
       "  </tbody>\n",
       "</table>\n",
       "<p>1000 rows × 8 columns</p>\n",
       "</div>"
      ],
      "text/plain": [
       "     nolatepayment  timelatepayment  lengthcredithistory  creditmix  \\\n",
       "0           -0.175           -0.175            -0.172063      0.150   \n",
       "1           -0.175           -0.175            -0.300000     -0.150   \n",
       "2           -0.175           -0.175            -0.110426      0.150   \n",
       "3           -0.175           -0.175            -0.180190     -0.075   \n",
       "4           -0.175           -0.175            -0.185185     -0.075   \n",
       "..             ...              ...                  ...        ...   \n",
       "995            NaN              NaN            -0.005942      0.150   \n",
       "996            NaN              NaN             0.300000      0.150   \n",
       "997            NaN              NaN            -0.186109      0.075   \n",
       "998            NaN              NaN            -0.091787     -0.075   \n",
       "999            NaN              NaN            -0.300000     -0.150   \n",
       "\n",
       "     newcredit  amountsowned  sum_all_columns  paymenthistory  \n",
       "0          0.1      0.064414        -0.207649             NaN  \n",
       "1          0.1     -0.100000        -0.800000             NaN  \n",
       "2          0.1      0.073960        -0.136466             NaN  \n",
       "3         -0.1      0.009573        -0.695617             NaN  \n",
       "4         -0.1     -0.071246        -0.781430             NaN  \n",
       "..         ...           ...              ...             ...  \n",
       "995       -0.1      0.096807        -0.209135           -0.35  \n",
       "996       -0.1      0.065307         0.065307           -0.35  \n",
       "997       -0.1     -0.011739        -0.572848           -0.35  \n",
       "998       -0.1     -0.027721        -0.644508           -0.35  \n",
       "999        0.1     -0.100000        -0.800000           -0.35  \n",
       "\n",
       "[1000 rows x 8 columns]"
      ]
     },
     "execution_count": 34,
     "metadata": {},
     "output_type": "execute_result"
    }
   ],
   "source": [
    "combined_weighted_creditscoring"
   ]
  },
  {
   "cell_type": "markdown",
   "id": "68758d22",
   "metadata": {},
   "source": [
    "2.4. Scale the score to a range between 300 and 850"
   ]
  },
  {
   "cell_type": "code",
   "execution_count": 35,
   "id": "151acd9b",
   "metadata": {},
   "outputs": [],
   "source": [
    "# Get the current minimum and maximum scores in the total_scores\n",
    "current_min_score = combined_weighted_creditscoring[\"sum_all_columns\"].min()\n",
    "current_max_score = combined_weighted_creditscoring[\"sum_all_columns\"].max()\n",
    "\n",
    "# Set score range (here: between 300 and 850 is chosen)\n",
    "desired_min_score = 300\n",
    "desired_max_score = 850"
   ]
  },
  {
   "cell_type": "code",
   "execution_count": 36,
   "id": "c1ac8c65",
   "metadata": {},
   "outputs": [],
   "source": [
    "# Perform Min-Max scaling to adjust the scores to the desired range\n",
    "scaled_scores = (combined_weighted_creditscoring[\"sum_all_columns\"] - current_min_score) * (desired_max_score - desired_min_score) / (current_max_score - current_min_score) + desired_min_score"
   ]
  },
  {
   "cell_type": "code",
   "execution_count": 37,
   "id": "b4f03895",
   "metadata": {},
   "outputs": [],
   "source": [
    "# add scaled scores to dataset\n",
    "combined_weighted_creditscoring[\"scaled_scores\"] = scaled_scores"
   ]
  },
  {
   "cell_type": "code",
   "execution_count": 62,
   "id": "eb4a5937",
   "metadata": {},
   "outputs": [],
   "source": [
    "# save dataset\n",
    "combined_weighted_creditscoring.to_excel(\"creditscoring.xlsx\", index = False)"
   ]
  },
  {
   "cell_type": "markdown",
   "id": "3de856d0",
   "metadata": {},
   "source": [
    "3. Evaluation"
   ]
  },
  {
   "cell_type": "code",
   "execution_count": 38,
   "id": "80afe686",
   "metadata": {},
   "outputs": [
    {
     "data": {
      "text/plain": [
       "300.0"
      ]
     },
     "execution_count": 38,
     "metadata": {},
     "output_type": "execute_result"
    }
   ],
   "source": [
    "scaled_scores.min()"
   ]
  },
  {
   "cell_type": "code",
   "execution_count": 39,
   "id": "b75177b1",
   "metadata": {},
   "outputs": [
    {
     "data": {
      "text/plain": [
       "850.0"
      ]
     },
     "execution_count": 39,
     "metadata": {},
     "output_type": "execute_result"
    }
   ],
   "source": [
    "scaled_scores.max()"
   ]
  },
  {
   "cell_type": "code",
   "execution_count": 40,
   "id": "50f411ae",
   "metadata": {},
   "outputs": [],
   "source": [
    "scaled_scores = round(scaled_scores)"
   ]
  },
  {
   "cell_type": "code",
   "execution_count": 41,
   "id": "96f2a73d",
   "metadata": {},
   "outputs": [
    {
     "data": {
      "text/plain": [
       "0      669.0\n",
       "1      393.0\n",
       "2      702.0\n",
       "3      442.0\n",
       "4      402.0\n",
       "       ...  \n",
       "995    668.0\n",
       "996    796.0\n",
       "997    499.0\n",
       "998    466.0\n",
       "999    393.0\n",
       "Name: sum_all_columns, Length: 1000, dtype: float64"
      ]
     },
     "execution_count": 41,
     "metadata": {},
     "output_type": "execute_result"
    }
   ],
   "source": [
    "scaled_scores"
   ]
  },
  {
   "cell_type": "markdown",
   "id": "e9193f8c",
   "metadata": {},
   "source": [
    "The scaled scores are nearly normally distributed. This is underlined by the close location of mean and median and the skewness that is close to zero."
   ]
  },
  {
   "cell_type": "code",
   "execution_count": 53,
   "id": "65d66abf",
   "metadata": {},
   "outputs": [
    {
     "data": {
      "image/png": "[encoded data removed]",
      "text/plain": [
       "<Figure size 640x480 with 1 Axes>"
      ]
     },
     "metadata": {},
     "output_type": "display_data"
    }
   ],
   "source": [
    "# Calculate mean and median\n",
    "mean_value = np.mean(scaled_scores)\n",
    "median_value = np.median(scaled_scores)\n",
    "\n",
    "# Plot the histogram\n",
    "sns.histplot(scaled_scores, kde=True)\n",
    "plt.axvline(mean_value, color='red', linestyle='dashed', linewidth=2, label='Mean')\n",
    "plt.axvline(median_value, color='green', linestyle='dashed', linewidth=2, label='Median')\n",
    "plt.xlabel(\"Scaled Scores\")\n",
    "plt.legend()\n",
    "plt.show()\n"
   ]
  },
  {
   "cell_type": "code",
   "execution_count": 52,
   "id": "be2fe0fc",
   "metadata": {
    "scrolled": true
   },
   "outputs": [
    {
     "data": {
      "text/plain": [
       "-0.29551365797224033"
      ]
     },
     "execution_count": 52,
     "metadata": {},
     "output_type": "execute_result"
    }
   ],
   "source": [
    "scaled_scores.skew()"
   ]
  },
  {
   "cell_type": "code",
   "execution_count": 57,
   "id": "606944c4",
   "metadata": {},
   "outputs": [],
   "source": [
    "# save scaled_scores in excel file\n",
    "creditscores = pd.DataFrame(combined_weighted_creditscoring[\"scaled_scores\"])"
   ]
  },
  {
   "cell_type": "code",
   "execution_count": 59,
   "id": "01993ac5",
   "metadata": {},
   "outputs": [],
   "source": [
    "creditscores.to_excel(\"creditscores.xlsx\", index=False)"
   ]
  }
 ],
 "metadata": {
  "kernelspec": {
   "display_name": "Python 3 (ipykernel)",
   "language": "python",
   "name": "python3"
  },
  "language_info": {
   "codemirror_mode": {
    "name": "ipython",
    "version": 3
   },
   "file_extension": ".py",
   "mimetype": "text/x-python",
   "name": "python",
   "nbconvert_exporter": "python",
   "pygments_lexer": "ipython3",
   "version": "3.9.16"
  }
 },
 "nbformat": 4,
 "nbformat_minor": 5
}
